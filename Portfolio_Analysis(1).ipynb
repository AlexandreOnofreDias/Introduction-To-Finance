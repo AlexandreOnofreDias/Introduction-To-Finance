{
 "cells": [
  {
   "cell_type": "markdown",
   "id": "e0f455e5",
   "metadata": {},
   "source": [
    "### Libraries\n"
   ]
  },
  {
   "cell_type": "code",
   "execution_count": 1,
   "id": "61c8fb11",
   "metadata": {},
   "outputs": [],
   "source": [
    "import pandas as pd\n",
    "import numpy as np\n",
    "import matplotlib.pyplot as plt\n",
    "import yfinance as yf\n",
    "from datetime import *"
   ]
  },
  {
   "cell_type": "markdown",
   "id": "72549282",
   "metadata": {},
   "source": [
    "### Get data"
   ]
  },
  {
   "cell_type": "code",
   "execution_count": 2,
   "id": "d5da977e",
   "metadata": {},
   "outputs": [
    {
     "name": "stderr",
     "output_type": "stream",
     "text": [
      "[*********************100%%**********************]  7 of 7 completed\n"
     ]
    }
   ],
   "source": [
    "today_date = str(date.today())\n",
    "share_names = [\"AAPL\", \"NVDA\", \"TSLA\", \"AMZN\", \"META\", \"MSFT\", \"GOOG\"]\n",
    "df = yf.download(share_names, start = '2022-01-01', end = today_date)"
   ]
  },
  {
   "cell_type": "code",
   "execution_count": 3,
   "id": "bce1b0dd",
   "metadata": {},
   "outputs": [],
   "source": [
    "returns = df['Adj Close'].pct_change().dropna()\n",
    "\n",
    "weight = [1/len(share_names)]\n",
    "eq_weights = pd.DataFrame(len(share_names)* weight, index = share_names, columns = ['Weights'])\n",
    "portfolio_value = 1"
   ]
  },
  {
   "cell_type": "markdown",
   "id": "283ef3ed",
   "metadata": {},
   "source": [
    "### Equally weighted portfolio"
   ]
  },
  {
   "cell_type": "code",
   "execution_count": 4,
   "id": "a29f56a3",
   "metadata": {},
   "outputs": [],
   "source": [
    "def eq_portfolio(returns):\n",
    "    weight = [1/len(share_names)]\n",
    "    eq_weights = pd.DataFrame(len(share_names)* weight, index = share_names, columns = ['Weights'])\n",
    "    \n",
    "    portfolio_return_break_down = returns * eq_weights.T.values\n",
    "    portfolio_returns = portfolio_return_break_down.sum(axis = 1).to_frame(name = 'Portfolio Returns')\n",
    "    portfolio_cumul_return = (portfolio_returns+1).cumprod()\n",
    "    \n",
    "    \n",
    "    return portfolio_cumul_return"
   ]
  },
  {
   "cell_type": "code",
   "execution_count": 5,
   "id": "5530dab3",
   "metadata": {},
   "outputs": [
    {
     "data": {
      "text/html": [
       "<div>\n",
       "<style scoped>\n",
       "    .dataframe tbody tr th:only-of-type {\n",
       "        vertical-align: middle;\n",
       "    }\n",
       "\n",
       "    .dataframe tbody tr th {\n",
       "        vertical-align: top;\n",
       "    }\n",
       "\n",
       "    .dataframe thead th {\n",
       "        text-align: right;\n",
       "    }\n",
       "</style>\n",
       "<table border=\"1\" class=\"dataframe\">\n",
       "  <thead>\n",
       "    <tr style=\"text-align: right;\">\n",
       "      <th></th>\n",
       "      <th>Portfolio Returns</th>\n",
       "    </tr>\n",
       "    <tr>\n",
       "      <th>Date</th>\n",
       "      <th></th>\n",
       "    </tr>\n",
       "  </thead>\n",
       "  <tbody>\n",
       "    <tr>\n",
       "      <th>2022-01-04</th>\n",
       "      <td>0.981907</td>\n",
       "    </tr>\n",
       "    <tr>\n",
       "      <th>2022-01-05</th>\n",
       "      <td>0.942845</td>\n",
       "    </tr>\n",
       "    <tr>\n",
       "      <th>2022-01-06</th>\n",
       "      <td>0.941875</td>\n",
       "    </tr>\n",
       "    <tr>\n",
       "      <th>2022-01-07</th>\n",
       "      <td>0.931478</td>\n",
       "    </tr>\n",
       "    <tr>\n",
       "      <th>2022-01-10</th>\n",
       "      <td>0.935534</td>\n",
       "    </tr>\n",
       "    <tr>\n",
       "      <th>...</th>\n",
       "      <td>...</td>\n",
       "    </tr>\n",
       "    <tr>\n",
       "      <th>2024-04-15</th>\n",
       "      <td>1.245272</td>\n",
       "    </tr>\n",
       "    <tr>\n",
       "      <th>2024-04-16</th>\n",
       "      <td>1.239544</td>\n",
       "    </tr>\n",
       "    <tr>\n",
       "      <th>2024-04-17</th>\n",
       "      <td>1.225261</td>\n",
       "    </tr>\n",
       "    <tr>\n",
       "      <th>2024-04-18</th>\n",
       "      <td>1.217513</td>\n",
       "    </tr>\n",
       "    <tr>\n",
       "      <th>2024-04-19</th>\n",
       "      <td>1.178869</td>\n",
       "    </tr>\n",
       "  </tbody>\n",
       "</table>\n",
       "<p>576 rows × 1 columns</p>\n",
       "</div>"
      ],
      "text/plain": [
       "            Portfolio Returns\n",
       "Date                         \n",
       "2022-01-04           0.981907\n",
       "2022-01-05           0.942845\n",
       "2022-01-06           0.941875\n",
       "2022-01-07           0.931478\n",
       "2022-01-10           0.935534\n",
       "...                       ...\n",
       "2024-04-15           1.245272\n",
       "2024-04-16           1.239544\n",
       "2024-04-17           1.225261\n",
       "2024-04-18           1.217513\n",
       "2024-04-19           1.178869\n",
       "\n",
       "[576 rows x 1 columns]"
      ]
     },
     "execution_count": 5,
     "metadata": {},
     "output_type": "execute_result"
    }
   ],
   "source": [
    "eq_portfolio(returns)"
   ]
  },
  {
   "cell_type": "code",
   "execution_count": 6,
   "id": "b05c071e",
   "metadata": {},
   "outputs": [
    {
     "data": {
      "text/plain": [
       "[<matplotlib.lines.Line2D at 0x7f911cce90f0>]"
      ]
     },
     "execution_count": 6,
     "metadata": {},
     "output_type": "execute_result"
    },
    {
     "data": {
      "image/png": "[encoded data removed]",
      "text/plain": [
       "<Figure size 640x480 with 1 Axes>"
      ]
     },
     "metadata": {},
     "output_type": "display_data"
    }
   ],
   "source": [
    "plt.plot(eq_portfolio(returns))"
   ]
  },
  {
   "cell_type": "markdown",
   "id": "f6e8356f",
   "metadata": {},
   "source": [
    "### Volatility Weighted Portfolio\n",
    "\n",
    "In this portfolio, the weight of asset \"i\" is equal to :\n",
    "$$\n",
    "\\frac{\\frac{1}{\\phi_\\text{i}^2}}{\\sum_{k=1}^{n} \\frac{1}{\\phi_\\text{k}^2}}\n",
    "$$\n",
    "\n",
    "\n",
    "\n",
    "\n"
   ]
  },
  {
   "cell_type": "code",
   "execution_count": 7,
   "id": "6faa9c0b",
   "metadata": {},
   "outputs": [],
   "source": [
    "def vol_weight(returns, frequency):\n",
    "    \n",
    "    \"Computation of the rolling returns\"\n",
    "    roll_vol = returns.rolling(frequency).std().dropna()\n",
    "    \n",
    "    \"Computation of the weights\"\n",
    "    numerators = 1/roll_vol**2        # 1/vol^2\n",
    "    denominator = numerators.sum(axis = 1)  #Une seule colonne avec somme(1/vols)\n",
    "    weights = numerators.div(denominator, axis = 0)\n",
    "    \n",
    "    \"Computation of the weighted returns\"\n",
    "    \n",
    "    portfolio_return_break_down = returns * weights\n",
    "    portfolio_returns = portfolio_return_break_down.sum(axis = 1).to_frame(name = 'Portfolio Returns')\n",
    "    portfolio_cumul_return = (portfolio_returns+1).cumprod()\n",
    "    \n",
    "    return portfolio_cumul_return"
   ]
  },
  {
   "cell_type": "code",
   "execution_count": 8,
   "id": "ce975787",
   "metadata": {},
   "outputs": [
    {
     "data": {
      "text/html": [
       "<div>\n",
       "<style scoped>\n",
       "    .dataframe tbody tr th:only-of-type {\n",
       "        vertical-align: middle;\n",
       "    }\n",
       "\n",
       "    .dataframe tbody tr th {\n",
       "        vertical-align: top;\n",
       "    }\n",
       "\n",
       "    .dataframe thead th {\n",
       "        text-align: right;\n",
       "    }\n",
       "</style>\n",
       "<table border=\"1\" class=\"dataframe\">\n",
       "  <thead>\n",
       "    <tr style=\"text-align: right;\">\n",
       "      <th></th>\n",
       "      <th>Portfolio Returns</th>\n",
       "    </tr>\n",
       "    <tr>\n",
       "      <th>Date</th>\n",
       "      <th></th>\n",
       "    </tr>\n",
       "  </thead>\n",
       "  <tbody>\n",
       "    <tr>\n",
       "      <th>2022-01-04</th>\n",
       "      <td>1.000000</td>\n",
       "    </tr>\n",
       "    <tr>\n",
       "      <th>2022-01-05</th>\n",
       "      <td>1.000000</td>\n",
       "    </tr>\n",
       "    <tr>\n",
       "      <th>2022-01-06</th>\n",
       "      <td>1.000000</td>\n",
       "    </tr>\n",
       "    <tr>\n",
       "      <th>2022-01-07</th>\n",
       "      <td>1.000000</td>\n",
       "    </tr>\n",
       "    <tr>\n",
       "      <th>2022-01-10</th>\n",
       "      <td>1.000000</td>\n",
       "    </tr>\n",
       "    <tr>\n",
       "      <th>...</th>\n",
       "      <td>...</td>\n",
       "    </tr>\n",
       "    <tr>\n",
       "      <th>2024-04-15</th>\n",
       "      <td>1.321683</td>\n",
       "    </tr>\n",
       "    <tr>\n",
       "      <th>2024-04-16</th>\n",
       "      <td>1.317171</td>\n",
       "    </tr>\n",
       "    <tr>\n",
       "      <th>2024-04-17</th>\n",
       "      <td>1.306172</td>\n",
       "    </tr>\n",
       "    <tr>\n",
       "      <th>2024-04-18</th>\n",
       "      <td>1.297563</td>\n",
       "    </tr>\n",
       "    <tr>\n",
       "      <th>2024-04-19</th>\n",
       "      <td>1.269757</td>\n",
       "    </tr>\n",
       "  </tbody>\n",
       "</table>\n",
       "<p>576 rows × 1 columns</p>\n",
       "</div>"
      ],
      "text/plain": [
       "            Portfolio Returns\n",
       "Date                         \n",
       "2022-01-04           1.000000\n",
       "2022-01-05           1.000000\n",
       "2022-01-06           1.000000\n",
       "2022-01-07           1.000000\n",
       "2022-01-10           1.000000\n",
       "...                       ...\n",
       "2024-04-15           1.321683\n",
       "2024-04-16           1.317171\n",
       "2024-04-17           1.306172\n",
       "2024-04-18           1.297563\n",
       "2024-04-19           1.269757\n",
       "\n",
       "[576 rows x 1 columns]"
      ]
     },
     "execution_count": 8,
     "metadata": {},
     "output_type": "execute_result"
    }
   ],
   "source": [
    "vol_weight(returns, 32)"
   ]
  },
  {
   "cell_type": "code",
   "execution_count": 9,
   "id": "3b432dd4",
   "metadata": {},
   "outputs": [
    {
     "data": {
      "text/plain": [
       "[<matplotlib.lines.Line2D at 0x7f911d0824d0>]"
      ]
     },
     "execution_count": 9,
     "metadata": {},
     "output_type": "execute_result"
    },
    {
     "data": {
      "image/png": "[encoded data removed]",
      "text/plain": [
       "<Figure size 640x480 with 1 Axes>"
      ]
     },
     "metadata": {},
     "output_type": "display_data"
    }
   ],
   "source": [
    "plt.plot(vol_weight(returns, 32))"
   ]
  },
  {
   "cell_type": "markdown",
   "id": "e2b77b54",
   "metadata": {},
   "source": [
    "### Mean Variance Weighted Portfolio"
   ]
  },
  {
   "cell_type": "markdown",
   "id": "e3ea3901",
   "metadata": {},
   "source": [
    "For this portfolio we have a weight equal to : \n",
    "\n",
    "$$\n",
    "\\frac{V^{-1} \\cdot \\mu}{1^t \\cdot V^{-1} \\cdot \\mu}\n",
    "$$"
   ]
  },
  {
   "cell_type": "code",
   "execution_count": 14,
   "id": "f4fe97d3",
   "metadata": {},
   "outputs": [],
   "source": [
    "def mean_var_weighted_port(returns):\n",
    "    \n",
    "    \"Computation of the matrices and vectors we will need\"\n",
    "    cov_matrix = returns.cov()\n",
    "    inv_cov_matrix = pd.DataFrame(np.linalg.inv(cov_matrix))\n",
    "    mean_matrix = returns.mean()\n",
    "    ones_vector = [1]*len(share_names)\n",
    "    \n",
    "    \"Computation of the weights\"\n",
    "    numerator = np.dot(inv_cov_matrix, mean_matrix.values)\n",
    "    denominator = np.dot(ones_vector, numerator)\n",
    "    weights = numerator / denominator\n",
    "    \n",
    "    \"Computation of the weighted returns\"\n",
    "    portfolio_return_break_down = returns * weights\n",
    "    portfolio_returns = portfolio_return_break_down.sum(axis = 1).to_frame(name = 'Portfolio Returns')\n",
    "    portfolio_cumul_return = (portfolio_returns+1).cumprod()\n",
    "    \n",
    "    \n",
    "    return portfolio_cumul_return"
   ]
  },
  {
   "cell_type": "code",
   "execution_count": 17,
   "id": "7fd85981",
   "metadata": {},
   "outputs": [
    {
     "data": {
      "text/html": [
       "<div>\n",
       "<style scoped>\n",
       "    .dataframe tbody tr th:only-of-type {\n",
       "        vertical-align: middle;\n",
       "    }\n",
       "\n",
       "    .dataframe tbody tr th {\n",
       "        vertical-align: top;\n",
       "    }\n",
       "\n",
       "    .dataframe thead th {\n",
       "        text-align: right;\n",
       "    }\n",
       "</style>\n",
       "<table border=\"1\" class=\"dataframe\">\n",
       "  <thead>\n",
       "    <tr style=\"text-align: right;\">\n",
       "      <th></th>\n",
       "      <th>Portfolio Returns</th>\n",
       "    </tr>\n",
       "    <tr>\n",
       "      <th>Date</th>\n",
       "      <th></th>\n",
       "    </tr>\n",
       "  </thead>\n",
       "  <tbody>\n",
       "    <tr>\n",
       "      <th>2022-01-04</th>\n",
       "      <td>9.686301e-01</td>\n",
       "    </tr>\n",
       "    <tr>\n",
       "      <th>2022-01-05</th>\n",
       "      <td>1.050600e+00</td>\n",
       "    </tr>\n",
       "    <tr>\n",
       "      <th>2022-01-06</th>\n",
       "      <td>7.086219e-01</td>\n",
       "    </tr>\n",
       "    <tr>\n",
       "      <th>2022-01-07</th>\n",
       "      <td>7.642224e-01</td>\n",
       "    </tr>\n",
       "    <tr>\n",
       "      <th>2022-01-10</th>\n",
       "      <td>8.406482e-01</td>\n",
       "    </tr>\n",
       "    <tr>\n",
       "      <th>...</th>\n",
       "      <td>...</td>\n",
       "    </tr>\n",
       "    <tr>\n",
       "      <th>2024-04-15</th>\n",
       "      <td>-7.894031e-12</td>\n",
       "    </tr>\n",
       "    <tr>\n",
       "      <th>2024-04-16</th>\n",
       "      <td>-5.631369e-12</td>\n",
       "    </tr>\n",
       "    <tr>\n",
       "      <th>2024-04-17</th>\n",
       "      <td>-6.718905e-12</td>\n",
       "    </tr>\n",
       "    <tr>\n",
       "      <th>2024-04-18</th>\n",
       "      <td>-5.191255e-12</td>\n",
       "    </tr>\n",
       "    <tr>\n",
       "      <th>2024-04-19</th>\n",
       "      <td>-8.110515e-12</td>\n",
       "    </tr>\n",
       "  </tbody>\n",
       "</table>\n",
       "<p>576 rows × 1 columns</p>\n",
       "</div>"
      ],
      "text/plain": [
       "            Portfolio Returns\n",
       "Date                         \n",
       "2022-01-04       9.686301e-01\n",
       "2022-01-05       1.050600e+00\n",
       "2022-01-06       7.086219e-01\n",
       "2022-01-07       7.642224e-01\n",
       "2022-01-10       8.406482e-01\n",
       "...                       ...\n",
       "2024-04-15      -7.894031e-12\n",
       "2024-04-16      -5.631369e-12\n",
       "2024-04-17      -6.718905e-12\n",
       "2024-04-18      -5.191255e-12\n",
       "2024-04-19      -8.110515e-12\n",
       "\n",
       "[576 rows x 1 columns]"
      ]
     },
     "execution_count": 17,
     "metadata": {},
     "output_type": "execute_result"
    },
    {
     "data": {
      "image/png": "[encoded data removed]",
      "text/plain": [
       "<Figure size 640x480 with 1 Axes>"
      ]
     },
     "metadata": {},
     "output_type": "display_data"
    }
   ],
   "source": [
    "plt.plot(mean_var_weighted_port(returns))\n",
    "mean_var_weighted_port(returns)"
   ]
  }
 ],
 "metadata": {
  "kernelspec": {
   "display_name": "Python 3 (ipykernel)",
   "language": "python",
   "name": "python3"
  },
  "language_info": {
   "codemirror_mode": {
    "name": "ipython",
    "version": 3
   },
   "file_extension": ".py",
   "mimetype": "text/x-python",
   "name": "python",
   "nbconvert_exporter": "python",
   "pygments_lexer": "ipython3",
   "version": "3.10.9"
  }
 },
 "nbformat": 4,
 "nbformat_minor": 5
}
